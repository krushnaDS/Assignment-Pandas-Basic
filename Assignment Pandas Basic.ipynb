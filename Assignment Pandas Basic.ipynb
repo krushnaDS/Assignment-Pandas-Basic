{
 "cells": [
  {
   "cell_type": "code",
   "execution_count": 8,
   "id": "b8378f9d-cc07-4d73-a642-73cf1e013477",
   "metadata": {},
   "outputs": [
    {
     "name": "stdout",
     "output_type": "stream",
     "text": [
      "0     4\n",
      "1     8\n",
      "2    15\n",
      "3    16\n",
      "4    23\n",
      "5    42\n",
      "dtype: int64\n"
     ]
    }
   ],
   "source": [
    "'''Q1. Create a Pandas Series that contains the following data: 4, 8, 15, 16, 23, and 42. Then, print the series.'''\n",
    "\n",
    "import pandas as pd\n",
    "\n",
    "data = [4,8,15,16,23,42]\n",
    "\n",
    "pd_series = pd.Series(data)\n",
    "\n",
    "print(pd_series)"
   ]
  },
  {
   "cell_type": "code",
   "execution_count": 16,
   "id": "83834a16-5451-49d5-8b1b-f71bacd92af2",
   "metadata": {},
   "outputs": [
    {
     "name": "stdout",
     "output_type": "stream",
     "text": [
      "0    1\n",
      "1    2\n",
      "2    3\n",
      "3    4\n",
      "4    5\n",
      "5    6\n",
      "6    7\n",
      "7    8\n",
      "8    9\n",
      "9    0\n",
      "dtype: int64\n"
     ]
    }
   ],
   "source": [
    "'''Q2. Create a variable of list type containing 10 elements in it, and apply pandas.Series function on the\n",
    "variable print it.'''\n",
    "import pandas as pd\n",
    "var = [1,2,3,4,5,6,7,8,9,0]\n",
    "\n",
    "var_series = pd.Series(var)\n",
    "\n",
    "print(var_series)"
   ]
  },
  {
   "cell_type": "code",
   "execution_count": 18,
   "id": "b955784b-fcb1-4cb8-98ed-5a9729160ed9",
   "metadata": {},
   "outputs": [
    {
     "name": "stdout",
     "output_type": "stream",
     "text": [
      "     Name  Age  Gender\n",
      "0   Alice   25  Female\n",
      "1     Bob   30    Male\n",
      "2  Claire   27  Female\n"
     ]
    }
   ],
   "source": [
    "'''Q3. Create a Pandas DataFrame that contains the following data:'''\n",
    "\n",
    "data1 = [[\"Alice\",25,\"Female\"],[\"Bob\",30,\"Male\"],[\"Claire\",27,\"Female\"]]\n",
    "\n",
    "d_frame = pd.DataFrame(data1,columns=[\"Name\",\"Age\",\"Gender\"])\n",
    "\n",
    "print(d_frame)"
   ]
  },
  {
   "cell_type": "code",
   "execution_count": 19,
   "id": "0f4c9632-4c81-406d-865b-3be9ef4c0b11",
   "metadata": {},
   "outputs": [
    {
     "data": {
      "text/plain": [
       "'Q4. What is ‘DataFrame’ in pandas and how is it different from pandas.series? Explain with an example.\\n\\n\\nA Pandas DataFrame is a two-dimensional data structure that can be thought of as a spreadsheet. \\nIt is a collection of Series objects, each of which represents a column in the spreadsheet.\\n\\nA Pandas Series is a one-dimensional data structure that can be thought of as a list with an index.\\nThe index is a unique identifier for each element in the Series. \\n\\nThe main difference between a DataFrame and a Series is that a DataFrame has multiple columns, while a Series only has one column.\\n\\nDataframe Example :\\n\\nimport pandas as pd\\ndf = pd.DataFrame({\\n    \"name\": [\"Alice\", \"Bob\", \"Carol\"],\\n    \"age\": [25, 30, 35]\\n})\\nprint(df)\\n\\nSeries Example:\\n\\nimport pandas as pd\\nseries = pd.Series([1, 2, 3, 4, 5])\\nprint(series)\\n'"
      ]
     },
     "execution_count": 19,
     "metadata": {},
     "output_type": "execute_result"
    }
   ],
   "source": [
    "'''Q4. What is ‘DataFrame’ in pandas and how is it different from pandas.series? Explain with an example.\n",
    "\n",
    "\n",
    "A Pandas DataFrame is a two-dimensional data structure that can be thought of as a spreadsheet. \n",
    "It is a collection of Series objects, each of which represents a column in the spreadsheet.\n",
    "\n",
    "A Pandas Series is a one-dimensional data structure that can be thought of as a list with an index.\n",
    "The index is a unique identifier for each element in the Series. \n",
    "\n",
    "The main difference between a DataFrame and a Series is that a DataFrame has multiple columns, while a Series only has one column.\n",
    "\n",
    "Dataframe Example :\n",
    "\n",
    "import pandas as pd\n",
    "df = pd.DataFrame({\n",
    "    \"name\": [\"Alice\", \"Bob\", \"Carol\"],\n",
    "    \"age\": [25, 30, 35]\n",
    "})\n",
    "print(df)\n",
    "\n",
    "Series Example:\n",
    "\n",
    "import pandas as pd\n",
    "series = pd.Series([1, 2, 3, 4, 5])\n",
    "print(series)\n",
    "'''"
   ]
  },
  {
   "cell_type": "code",
   "execution_count": 20,
   "id": "eac6a76b-c966-4ae8-b069-fe6586779800",
   "metadata": {},
   "outputs": [
    {
     "data": {
      "text/plain": [
       "'Q5. What are some common functions you can use to manipulate data in a Pandas DataFrame? Can\\nyou give an example of when you might use one of these functions?\\n\\ndf.head(): Returns the first few rows of the DataFrame.\\ndf.tail(): Returns the last few rows of the DataFrame.\\ndf.describe(): Returns summary statistics for each column in the DataFrame.\\ndf.filter(): Returns a DataFrame with only the rows that match the specified criteria.\\ndf.groupby(): Groups the rows of the DataFrame by one or more columns and performs operations on the groups.\\ndf.sort_values(): Sorts the rows of the DataFrame by one or more columns.\\ndf.drop(): Drops rows or columns from the DataFrame.\\n'"
      ]
     },
     "execution_count": 20,
     "metadata": {},
     "output_type": "execute_result"
    }
   ],
   "source": [
    "'''Q5. What are some common functions you can use to manipulate data in a Pandas DataFrame? Can\n",
    "you give an example of when you might use one of these functions?\n",
    "\n",
    "df.head(): Returns the first few rows of the DataFrame.\n",
    "df.tail(): Returns the last few rows of the DataFrame.\n",
    "df.describe(): Returns summary statistics for each column in the DataFrame.\n",
    "df.filter(): Returns a DataFrame with only the rows that match the specified criteria.\n",
    "df.groupby(): Groups the rows of the DataFrame by one or more columns and performs operations on the groups.\n",
    "df.sort_values(): Sorts the rows of the DataFrame by one or more columns.\n",
    "df.drop(): Drops rows or columns from the DataFrame.\n",
    "'''"
   ]
  },
  {
   "cell_type": "code",
   "execution_count": 21,
   "id": "fa5681ca-c48d-4473-a4fd-d701fe0ae8d5",
   "metadata": {},
   "outputs": [
    {
     "data": {
      "text/plain": [
       "'Q6. Which of the following is mutable in nature Series, DataFrame, Panel?\\n\\nSeries and DataFrame are mutable in nature i.e. we can change their data after creation.\\n'"
      ]
     },
     "execution_count": 21,
     "metadata": {},
     "output_type": "execute_result"
    }
   ],
   "source": [
    "'''Q6. Which of the following is mutable in nature Series, DataFrame, Panel?\n",
    "\n",
    "Series and DataFrame are mutable in nature i.e. we can change their data after creation.\n",
    "'''"
   ]
  },
  {
   "cell_type": "code",
   "execution_count": 22,
   "id": "552c3fec-5474-4f8d-b9b0-6c25208dea88",
   "metadata": {},
   "outputs": [
    {
     "name": "stdout",
     "output_type": "stream",
     "text": [
      "       0     1      2    3    4\n",
      "c1   1.0   2.0    3.0  4.0  5.0\n",
      "c2   5.0   3.0   28.0  9.0  2.0\n",
      "c3  34.0  23.0  123.0  NaN  NaN\n"
     ]
    }
   ],
   "source": [
    "'''Q7. Create a DataFrame using multiple Series. Explain with an example.'''\n",
    "\n",
    "data2 = [1,2,3,4,5]\n",
    "data3 = [5,3,28,9,2]\n",
    "data4 = [34,23,123]\n",
    "\n",
    "d1 = pd.Series(data2)\n",
    "d2 = pd.Series(data3)\n",
    "d3 = pd.Series(data4)\n",
    "\n",
    "pf = pd.DataFrame([d1,d2,d3],[\"c1\",\"c2\",\"c3\"])\n",
    "\n",
    "print(pf)"
   ]
  },
  {
   "cell_type": "code",
   "execution_count": null,
   "id": "8cf8016b-f400-4bea-87ee-c9933efbe9c0",
   "metadata": {},
   "outputs": [],
   "source": []
  }
 ],
 "metadata": {
  "kernelspec": {
   "display_name": "Python 3 (ipykernel)",
   "language": "python",
   "name": "python3"
  },
  "language_info": {
   "codemirror_mode": {
    "name": "ipython",
    "version": 3
   },
   "file_extension": ".py",
   "mimetype": "text/x-python",
   "name": "python",
   "nbconvert_exporter": "python",
   "pygments_lexer": "ipython3",
   "version": "3.10.8"
  }
 },
 "nbformat": 4,
 "nbformat_minor": 5
}
